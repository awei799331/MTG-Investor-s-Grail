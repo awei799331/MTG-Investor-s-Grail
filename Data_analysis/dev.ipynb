{
 "metadata": {
  "language_info": {
   "codemirror_mode": {
    "name": "ipython",
    "version": 3
   },
   "file_extension": ".py",
   "mimetype": "text/x-python",
   "name": "python",
   "nbconvert_exporter": "python",
   "pygments_lexer": "ipython3",
   "version": "3.8.4-final"
  },
  "orig_nbformat": 2,
  "kernelspec": {
   "name": "python3",
   "display_name": "Python 3",
   "language": "python"
  }
 },
 "nbformat": 4,
 "nbformat_minor": 2,
 "cells": [
  {
   "cell_type": "code",
   "execution_count": 1,
   "metadata": {},
   "outputs": [],
   "source": [
    "import numpy as np \n",
    "import torch \n",
    "import json\n",
    "from utils import parse_json"
   ]
  },
  {
   "cell_type": "code",
   "execution_count": 2,
   "metadata": {},
   "outputs": [],
   "source": [
    "with open(\"data\\AllPrices.json\") as f:\n",
    "    price_json = json.load(f)"
   ]
  },
  {
   "cell_type": "code",
   "execution_count": 3,
   "metadata": {
    "tags": []
   },
   "outputs": [],
   "source": [
    "lulw = parse_json.parse_price(price_json)"
   ]
  },
  {
   "cell_type": "code",
   "execution_count": 10,
   "metadata": {
    "tags": []
   },
   "outputs": [
    {
     "output_type": "stream",
     "name": "stdout",
     "text": [
      "('0001e0d0-2dcd-5640-aadc-a84765cf5fc9', {'currency': 'USD', 'prices': [(datetime.datetime(2020, 10, 28, 0, 0), 4.26), (datetime.datetime(2020, 10, 29, 0, 0), 4.26), (datetime.datetime(2020, 10, 30, 0, 0), 4.26), (datetime.datetime(2020, 10, 31, 0, 0), 4.26), (datetime.datetime(2020, 11, 1, 0, 0), 4.31), (datetime.datetime(2020, 11, 2, 0, 0), 4.31), (datetime.datetime(2020, 11, 3, 0, 0), 4.31), (datetime.datetime(2020, 11, 4, 0, 0), 4.31), (datetime.datetime(2020, 11, 5, 0, 0), 4.31), (datetime.datetime(2020, 11, 6, 0, 0), 4.31), (datetime.datetime(2020, 12, 15, 0, 0), 4.43), (datetime.datetime(2020, 12, 16, 0, 0), 4.43), (datetime.datetime(2020, 12, 17, 0, 0), 4.43), (datetime.datetime(2020, 12, 18, 0, 0), 4.41), (datetime.datetime(2020, 12, 19, 0, 0), 4.41), (datetime.datetime(2020, 12, 20, 0, 0), 4.4), (datetime.datetime(2021, 1, 4, 0, 0), 4.54), (datetime.datetime(2021, 1, 5, 0, 0), 4.54), (datetime.datetime(2021, 1, 6, 0, 0), 4.54), (datetime.datetime(2021, 1, 8, 0, 0), 4.54), (datetime.datetime(2021, 1, 9, 0, 0), 4.48), (datetime.datetime(2021, 1, 10, 0, 0), 4.48), (datetime.datetime(2021, 1, 11, 0, 0), 4.48), (datetime.datetime(2021, 1, 12, 0, 0), 4.48), (datetime.datetime(2021, 1, 13, 0, 0), 4.48), (datetime.datetime(2021, 1, 15, 0, 0), 4.48), (datetime.datetime(2021, 1, 16, 0, 0), 4.48), (datetime.datetime(2021, 1, 17, 0, 0), 4.48), (datetime.datetime(2021, 1, 18, 0, 0), 4.48), (datetime.datetime(2021, 1, 20, 0, 0), 4.62), (datetime.datetime(2021, 1, 22, 0, 0), 4.65), (datetime.datetime(2021, 1, 23, 0, 0), 4.68), (datetime.datetime(2021, 1, 24, 0, 0), 4.69), (datetime.datetime(2021, 1, 25, 0, 0), 4.69), (datetime.datetime(2021, 1, 26, 0, 0), 4.69), (datetime.datetime(2021, 1, 27, 0, 0), 4.69), (datetime.datetime(2021, 1, 28, 0, 0), 4.69)]})\n"
     ]
    }
   ],
   "source": [
    "print(list(lulw.items())[0])"
   ]
  },
  {
   "cell_type": "code",
   "execution_count": null,
   "metadata": {},
   "outputs": [],
   "source": []
  },
  {
   "cell_type": "code",
   "execution_count": null,
   "metadata": {},
   "outputs": [],
   "source": []
  }
 ]
}