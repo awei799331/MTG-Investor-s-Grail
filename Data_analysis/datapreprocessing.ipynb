{
 "cells": [
  {
   "cell_type": "code",
   "execution_count": 1,
   "metadata": {},
   "outputs": [],
   "source": [
    "import utils.parse_json as pj\n",
    "import utils.parse_csv as pc\n",
    "from utils.datasets import MTGJson"
   ]
  },
  {
   "cell_type": "code",
   "execution_count": 2,
   "metadata": {},
   "outputs": [],
   "source": [
    "fields = [\"manaCost\", \"convertedManaCost\", \"type\", \"power\", \"toughness\", \"rarity\"]\n",
    "\n",
    "mapped_funcs = [pc.mana_cost, pc.cmc, pc.type_of_card, pc.power, pc.toughness, pc.rarity]\n",
    "\n",
    "MTGdataset = MTGJson(datadir=\"data/cards.csv\", fields=fields, mapped_funcs=mapped_funcs, mode=\"vecs\", to_csv=False, csv_filename=\"\", save_dicts=False, utildicts_path=\"\")"
   ]
  },
  {
   "cell_type": "code",
   "execution_count": 3,
   "metadata": {},
   "outputs": [
    {
     "name": "stdout",
     "output_type": "stream",
     "text": [
      "{'uuid': ('5f8287b1-5bb6-5f4c-ad17-316a40d5bb0c',), 'vec': tensor([5., 2., 0., 0., 0., 0., 7., 0., 0., 1., 0., 0., 0., 0., 0., 4., 4., 0.,\n",
      "        1., 0., 0.])}\n"
     ]
    }
   ],
   "source": [
    "print(MTGdataset[0])"
   ]
  },
  {
   "cell_type": "code",
   "execution_count": 5,
   "metadata": {},
   "outputs": [
    {
     "data": {
      "text/plain": [
       "\"Ancestor's Chosen\""
      ]
     },
     "execution_count": 5,
     "metadata": {},
     "output_type": "execute_result"
    }
   ],
   "source": [
    "MTGdataset.utildicts.uuid2cardName['5f8287b1-5bb6-5f4c-ad17-316a40d5bb0c']"
   ]
  },
  {
   "cell_type": "code",
   "execution_count": null,
   "metadata": {},
   "outputs": [],
   "source": []
  }
 ],
 "metadata": {
  "kernelspec": {
   "display_name": "Python 3",
   "language": "python",
   "name": "python3"
  },
  "language_info": {
   "codemirror_mode": {
    "name": "ipython",
    "version": 3
   },
   "file_extension": ".py",
   "mimetype": "text/x-python",
   "name": "python",
   "nbconvert_exporter": "python",
   "pygments_lexer": "ipython3",
   "version": "3.10.4 (tags/v3.10.4:9d38120, Mar 23 2022, 23:13:41) [MSC v.1929 64 bit (AMD64)]"
  },
  "orig_nbformat": 2,
  "vscode": {
   "interpreter": {
    "hash": "d0d8f4ad52842acb1bd88b5e4d5a3e855ffe6009d6de89734aac6954d5696bda"
   }
  }
 },
 "nbformat": 4,
 "nbformat_minor": 2
}
